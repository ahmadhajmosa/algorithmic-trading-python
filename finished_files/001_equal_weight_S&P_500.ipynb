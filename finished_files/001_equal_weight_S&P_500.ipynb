{
  "nbformat": 4,
  "nbformat_minor": 0,
  "metadata": {
    "kernelspec": {
      "display_name": "Python 3",
      "language": "python",
      "name": "python3"
    },
    "language_info": {
      "codemirror_mode": {
        "name": "ipython",
        "version": 3
      },
      "file_extension": ".py",
      "mimetype": "text/x-python",
      "name": "python",
      "nbconvert_exporter": "python",
      "pygments_lexer": "ipython3",
      "version": "3.8.5"
    },
    "colab": {
      "name": "001_equal_weight_S&P_500.ipynb",
      "provenance": [],
      "toc_visible": true
    }
  },
  "cells": [
    {
      "cell_type": "markdown",
      "metadata": {
        "id": "NFbYWBtVODNQ"
      },
      "source": [
        "# Equal-Weight S&P 500 Index Fund\n",
        "\n",
        "## Introduction & Library Imports\n",
        "\n",
        "The S&P 500 is the world's most popular stock market index. The largest fund that is benchmarked to this index is the SPDR® S&P 500® ETF Trust. It has more than US$250 billion of assets under management.\n",
        "\n",
        "The goal of this section of the course is to create a Python script that will accept the value of your portfolio and tell you how many shares of each S&P 500 constituent you should purchase to get an equal-weight version of the index fund.\n",
        "\n",
        "## Library Imports\n",
        "\n",
        "The first thing we need to do is import the open-source software libraries that we'll be using in this tutorial."
      ]
    },
    {
      "cell_type": "code",
      "metadata": {
        "id": "O0RiD1S9ODNX"
      },
      "source": [
        "import numpy as np #The Numpy numerical computing library\n",
        "import pandas as pd #The Pandas data science library\n",
        "import requests #The requests library for HTTP requests in Python\n",
        "import xlsxwriter #The XlsxWriter libarary for \n",
        "import math #The Python math module"
      ],
      "execution_count": 18,
      "outputs": []
    },
    {
      "cell_type": "markdown",
      "metadata": {
        "id": "CAqXs-KEODNX"
      },
      "source": [
        "## Importing Our List of Stocks\n",
        "\n",
        "The next thing we need to do is import the constituents of the S&P 500.\n",
        "\n",
        "These constituents change over time, so in an ideal world you would connect directly to the index provider (Standard & Poor's) and pull their real-time constituents on a regular basis.\n",
        "\n",
        "Paying for access to the index provider's API is outside of the scope of this course. \n",
        "\n",
        "There's a static version of the S&P 500 constituents available here. [Click this link to download them now](http://nickmccullum.com/algorithmic-trading-python/sp_500_stocks.csv). Move this file into the `starter-files` folder so it can be accessed by other files in that directory.\n",
        "\n",
        "Now it's time to import these stocks to our Jupyter Notebook file."
      ]
    },
    {
      "cell_type": "code",
      "metadata": {
        "id": "ATe0ARBzODNX"
      },
      "source": [
        "stocks = pd.read_csv('sp_500_stocks.csv')"
      ],
      "execution_count": null,
      "outputs": []
    },
    {
      "cell_type": "markdown",
      "metadata": {
        "id": "pNSC2rsNODNY"
      },
      "source": [
        "## Acquiring an API Token\n",
        "\n",
        "Now it's time to import our IEX Cloud API token. This is the data provider that we will be using throughout this course.\n",
        "\n",
        "API tokens (and other sensitive information) should be stored in a `secrets.py` file that doesn't get pushed to your local Git repository. We'll be using a sandbox API token in this course, which means that the data we'll use is randomly-generated and (more importantly) has no cost associated with it.\n",
        "\n",
        "[Click here](http://nickmccullum.com/algorithmic-trading-python/secrets.py) to download your `secrets.py` file. Move the file into the same directory as this Jupyter Notebook before proceeding."
      ]
    },
    {
      "cell_type": "code",
      "metadata": {
        "id": "2tQR4DqkODNY",
        "outputId": "02d7fdfc-3ef8-4e24-d926-04bda71b13eb",
        "colab": {
          "base_uri": "https://localhost:8080/",
          "height": 35
        }
      },
      "source": [
        "from secrets_m_ import IEX_CLOUD_API_TOKEN\n",
        "IEX_CLOUD_API_TOKEN"
      ],
      "execution_count": 39,
      "outputs": [
        {
          "output_type": "execute_result",
          "data": {
            "application/vnd.google.colaboratory.intrinsic+json": {
              "type": "string"
            },
            "text/plain": [
              "'Tpk_86bde909ce9045d3ae49225e586ac3c4'"
            ]
          },
          "metadata": {
            "tags": []
          },
          "execution_count": 39
        }
      ]
    },
    {
      "cell_type": "code",
      "metadata": {
        "id": "rm3-OlHpO_Eg"
      },
      "source": [
        ""
      ],
      "execution_count": 29,
      "outputs": []
    },
    {
      "cell_type": "markdown",
      "metadata": {
        "id": "uZM9PqEjODNY"
      },
      "source": [
        "## Making Our First API Call\n",
        "\n",
        "Now it's time to structure our API calls to IEX cloud. \n",
        "\n",
        "We need the following information from the API:\n",
        "\n",
        "* Market capitalization for each stock\n",
        "* Price of each stock\n",
        "\n"
      ]
    },
    {
      "cell_type": "code",
      "metadata": {
        "id": "rrC3sF46ODNY",
        "outputId": "71967ce4-ec0b-49e3-904d-871d98472924",
        "colab": {
          "base_uri": "https://localhost:8080/"
        }
      },
      "source": [
        "symbol='AAPL'\n",
        "api_url = f'https://sandbox.iexapis.com/stable/stock/{symbol}/quote?token={IEX_CLOUD_API_TOKEN}'\n",
        "data = requests.get(api_url).json()\n",
        "data"
      ],
      "execution_count": 40,
      "outputs": [
        {
          "output_type": "execute_result",
          "data": {
            "text/plain": [
              "{'avgTotalVolume': 114806944,\n",
              " 'calculationPrice': 'close',\n",
              " 'change': 0.85,\n",
              " 'changePercent': 0.00703,\n",
              " 'close': 126,\n",
              " 'closeSource': 'faficiol',\n",
              " 'closeTime': 1619419680341,\n",
              " 'companyName': 'Apple Inc',\n",
              " 'delayedPrice': 128.622,\n",
              " 'delayedPriceTime': 1671629251573,\n",
              " 'extendedChange': 0,\n",
              " 'extendedChangePercent': 0,\n",
              " 'extendedPrice': 126,\n",
              " 'extendedPriceTime': 1696541574032,\n",
              " 'high': 128,\n",
              " 'highSource': 'esoCl',\n",
              " 'highTime': 1694872075921,\n",
              " 'iexAskPrice': None,\n",
              " 'iexAskSize': None,\n",
              " 'iexBidPrice': None,\n",
              " 'iexBidSize': None,\n",
              " 'iexClose': 124.573,\n",
              " 'iexCloseTime': 1692330802919,\n",
              " 'iexLastUpdated': None,\n",
              " 'iexMarketPercent': None,\n",
              " 'iexOpen': 124.124,\n",
              " 'iexOpenTime': 1630656687497,\n",
              " 'iexRealtimePrice': None,\n",
              " 'iexRealtimeSize': None,\n",
              " 'iexVolume': None,\n",
              " 'isUSMarketOpen': False,\n",
              " 'lastTradeTime': 1629007244397,\n",
              " 'latestPrice': 127,\n",
              " 'latestSource': 'Close',\n",
              " 'latestTime': 'April 1, 2021',\n",
              " 'latestUpdate': 1683006228241,\n",
              " 'latestVolume': 77573778,\n",
              " 'low': 129,\n",
              " 'lowSource': 'seClo',\n",
              " 'lowTime': 1626155305365,\n",
              " 'marketCap': 2142858498919,\n",
              " 'oddLotDelayedPrice': 127.14,\n",
              " 'oddLotDelayedPriceTime': 1693447994455,\n",
              " 'open': 125.42,\n",
              " 'openSource': 'cffliiao',\n",
              " 'openTime': 1628850030650,\n",
              " 'peRatio': 34.04,\n",
              " 'previousClose': 125.9,\n",
              " 'previousVolume': 123767163,\n",
              " 'primaryExchange': 'OSB/GSETEN GQSKLA RL)CEANLM A(ATD',\n",
              " 'symbol': 'AAPL',\n",
              " 'volume': 76076486,\n",
              " 'week52High': 151.36,\n",
              " 'week52Low': 63.27,\n",
              " 'ytdChange': -0.06675024695094403}"
            ]
          },
          "metadata": {
            "tags": []
          },
          "execution_count": 40
        }
      ]
    },
    {
      "cell_type": "code",
      "metadata": {
        "id": "wcXB6QjyOz8n",
        "outputId": "769cb7c2-84dd-4335-dfd0-941d0edf1c09",
        "colab": {
          "base_uri": "https://localhost:8080/",
          "height": 35
        }
      },
      "source": [
        "api_url"
      ],
      "execution_count": 26,
      "outputs": [
        {
          "output_type": "execute_result",
          "data": {
            "application/vnd.google.colaboratory.intrinsic+json": {
              "type": "string"
            },
            "text/plain": [
              "'https://sandbox.iexapis.com/stable/stock/AAPL/quote?token=sk_a7a8ca8c0913489ba7d3661e63e1076b'"
            ]
          },
          "metadata": {
            "tags": []
          },
          "execution_count": 26
        }
      ]
    },
    {
      "cell_type": "markdown",
      "metadata": {
        "id": "b7P_jxaYODNY"
      },
      "source": [
        "## Parsing Our API Call\n",
        "\n",
        "The API call that we executed in the last code block contains all of the information required to build our equal-weight S&P 500 strategy. \n",
        "\n",
        "With that said, the data isn't in a proper format yet. We need to parse it first."
      ]
    },
    {
      "cell_type": "code",
      "metadata": {
        "id": "9ACFV5XwODNZ",
        "outputId": "483dcd25-11c7-47ea-bcd5-0ee9d823a5ac",
        "colab": {
          "base_uri": "https://localhost:8080/"
        }
      },
      "source": [
        "data['latestPrice']\n",
        "data['marketCap']"
      ],
      "execution_count": 41,
      "outputs": [
        {
          "output_type": "execute_result",
          "data": {
            "text/plain": [
              "2142858498919"
            ]
          },
          "metadata": {
            "tags": []
          },
          "execution_count": 41
        }
      ]
    },
    {
      "cell_type": "markdown",
      "metadata": {
        "id": "gf8XPHeVODNZ"
      },
      "source": [
        "## Adding Our Stocks Data to a Pandas DataFrame\n",
        "\n",
        "The next thing we need to do is add our stock's price and market capitalization to a pandas DataFrame. Think of a DataFrame like the Python version of a spreadsheet. It stores tabular data."
      ]
    },
    {
      "cell_type": "code",
      "metadata": {
        "id": "FkNB1Ab5ODNZ",
        "outputId": "9de49ec6-ea77-4bdf-cd68-e4333b3a3496",
        "colab": {
          "base_uri": "https://localhost:8080/",
          "height": 48
        }
      },
      "source": [
        "my_columns = ['Ticker', 'Price','Market Capitalization', 'Number Of Shares to Buy']\n",
        "final_dataframe = pd.DataFrame(columns = my_columns)\n",
        "final_dataframe"
      ],
      "execution_count": 42,
      "outputs": [
        {
          "output_type": "execute_result",
          "data": {
            "text/html": [
              "<div>\n",
              "<style scoped>\n",
              "    .dataframe tbody tr th:only-of-type {\n",
              "        vertical-align: middle;\n",
              "    }\n",
              "\n",
              "    .dataframe tbody tr th {\n",
              "        vertical-align: top;\n",
              "    }\n",
              "\n",
              "    .dataframe thead th {\n",
              "        text-align: right;\n",
              "    }\n",
              "</style>\n",
              "<table border=\"1\" class=\"dataframe\">\n",
              "  <thead>\n",
              "    <tr style=\"text-align: right;\">\n",
              "      <th></th>\n",
              "      <th>Ticker</th>\n",
              "      <th>Price</th>\n",
              "      <th>Market Capitalization</th>\n",
              "      <th>Number Of Shares to Buy</th>\n",
              "    </tr>\n",
              "  </thead>\n",
              "  <tbody>\n",
              "  </tbody>\n",
              "</table>\n",
              "</div>"
            ],
            "text/plain": [
              "Empty DataFrame\n",
              "Columns: [Ticker, Price, Market Capitalization, Number Of Shares to Buy]\n",
              "Index: []"
            ]
          },
          "metadata": {
            "tags": []
          },
          "execution_count": 42
        }
      ]
    },
    {
      "cell_type": "code",
      "metadata": {
        "id": "A0tn8jtEODNZ",
        "outputId": "f6c4b03e-3637-4886-a24a-695709e75704",
        "colab": {
          "base_uri": "https://localhost:8080/",
          "height": 78
        }
      },
      "source": [
        "final_dataframe = final_dataframe.append(\n",
        "                                        pd.Series(['AAPL', \n",
        "                                                   data['latestPrice'], \n",
        "                                                   data['marketCap'], \n",
        "                                                   'N/A'], \n",
        "                                                  index = my_columns), \n",
        "                                        ignore_index = True)\n",
        "final_dataframe"
      ],
      "execution_count": 43,
      "outputs": [
        {
          "output_type": "execute_result",
          "data": {
            "text/html": [
              "<div>\n",
              "<style scoped>\n",
              "    .dataframe tbody tr th:only-of-type {\n",
              "        vertical-align: middle;\n",
              "    }\n",
              "\n",
              "    .dataframe tbody tr th {\n",
              "        vertical-align: top;\n",
              "    }\n",
              "\n",
              "    .dataframe thead th {\n",
              "        text-align: right;\n",
              "    }\n",
              "</style>\n",
              "<table border=\"1\" class=\"dataframe\">\n",
              "  <thead>\n",
              "    <tr style=\"text-align: right;\">\n",
              "      <th></th>\n",
              "      <th>Ticker</th>\n",
              "      <th>Price</th>\n",
              "      <th>Market Capitalization</th>\n",
              "      <th>Number Of Shares to Buy</th>\n",
              "    </tr>\n",
              "  </thead>\n",
              "  <tbody>\n",
              "    <tr>\n",
              "      <th>0</th>\n",
              "      <td>AAPL</td>\n",
              "      <td>127</td>\n",
              "      <td>2142858498919</td>\n",
              "      <td>N/A</td>\n",
              "    </tr>\n",
              "  </tbody>\n",
              "</table>\n",
              "</div>"
            ],
            "text/plain": [
              "  Ticker Price Market Capitalization Number Of Shares to Buy\n",
              "0   AAPL   127         2142858498919                     N/A"
            ]
          },
          "metadata": {
            "tags": []
          },
          "execution_count": 43
        }
      ]
    },
    {
      "cell_type": "markdown",
      "metadata": {
        "id": "5Hha6TB9ODNZ"
      },
      "source": [
        "## Looping Through The Tickers in Our List of Stocks\n",
        "\n",
        "Using the same logic that we outlined above, we can pull data for all S&P 500 stocks and store their data in the DataFrame using a `for` loop."
      ]
    },
    {
      "cell_type": "code",
      "metadata": {
        "id": "AFcjZ8z-ODNZ",
        "outputId": "f68e3384-7ba8-432d-ff4b-48a580fc6c23",
        "colab": {
          "base_uri": "https://localhost:8080/",
          "height": 235
        }
      },
      "source": [
        "final_dataframe = pd.DataFrame(columns = my_columns)\n",
        "for symbol in stocks['Ticker']:\n",
        "    api_url = f'https://sandbox.iexapis.com/stable/stock/{symbol}/quote?token={IEX_CLOUD_API_TOKEN}'\n",
        "    data = requests.get(api_url).json()\n",
        "    final_dataframe = final_dataframe.append(\n",
        "                                        pd.Series([symbol, \n",
        "                                                   data['latestPrice'], \n",
        "                                                   data['marketCap'], \n",
        "                                                   'N/A'], \n",
        "                                                  index = my_columns), \n",
        "                                        ignore_index = True)\n"
      ],
      "execution_count": 44,
      "outputs": [
        {
          "output_type": "error",
          "ename": "NameError",
          "evalue": "ignored",
          "traceback": [
            "\u001b[0;31m---------------------------------------------------------------------------\u001b[0m",
            "\u001b[0;31mNameError\u001b[0m                                 Traceback (most recent call last)",
            "\u001b[0;32m<ipython-input-44-0f570d907527>\u001b[0m in \u001b[0;36m<module>\u001b[0;34m()\u001b[0m\n\u001b[1;32m      1\u001b[0m \u001b[0mfinal_dataframe\u001b[0m \u001b[0;34m=\u001b[0m \u001b[0mpd\u001b[0m\u001b[0;34m.\u001b[0m\u001b[0mDataFrame\u001b[0m\u001b[0;34m(\u001b[0m\u001b[0mcolumns\u001b[0m \u001b[0;34m=\u001b[0m \u001b[0mmy_columns\u001b[0m\u001b[0;34m)\u001b[0m\u001b[0;34m\u001b[0m\u001b[0;34m\u001b[0m\u001b[0m\n\u001b[0;32m----> 2\u001b[0;31m \u001b[0;32mfor\u001b[0m \u001b[0msymbol\u001b[0m \u001b[0;32min\u001b[0m \u001b[0mstocks\u001b[0m\u001b[0;34m[\u001b[0m\u001b[0;34m'Ticker'\u001b[0m\u001b[0;34m]\u001b[0m\u001b[0;34m:\u001b[0m\u001b[0;34m\u001b[0m\u001b[0;34m\u001b[0m\u001b[0m\n\u001b[0m\u001b[1;32m      3\u001b[0m     \u001b[0mapi_url\u001b[0m \u001b[0;34m=\u001b[0m \u001b[0;34mf'https://sandbox.iexapis.com/stable/stock/{symbol}/quote?token={IEX_CLOUD_API_TOKEN}'\u001b[0m\u001b[0;34m\u001b[0m\u001b[0;34m\u001b[0m\u001b[0m\n\u001b[1;32m      4\u001b[0m     \u001b[0mdata\u001b[0m \u001b[0;34m=\u001b[0m \u001b[0mrequests\u001b[0m\u001b[0;34m.\u001b[0m\u001b[0mget\u001b[0m\u001b[0;34m(\u001b[0m\u001b[0mapi_url\u001b[0m\u001b[0;34m)\u001b[0m\u001b[0;34m.\u001b[0m\u001b[0mjson\u001b[0m\u001b[0;34m(\u001b[0m\u001b[0;34m)\u001b[0m\u001b[0;34m\u001b[0m\u001b[0;34m\u001b[0m\u001b[0m\n\u001b[1;32m      5\u001b[0m     final_dataframe = final_dataframe.append(\n",
            "\u001b[0;31mNameError\u001b[0m: name 'stocks' is not defined"
          ]
        }
      ]
    },
    {
      "cell_type": "code",
      "metadata": {
        "id": "-DC89o3DODNa"
      },
      "source": [
        "final_dataframe"
      ],
      "execution_count": null,
      "outputs": []
    },
    {
      "cell_type": "markdown",
      "metadata": {
        "id": "cMloFv7cODNa"
      },
      "source": [
        "## Using Batch API Calls to Improve Performance\n",
        "\n",
        "Batch API calls are one of the easiest ways to improve the performance of your code.\n",
        "\n",
        "This is because HTTP requests are typically one of the slowest components of a script.\n",
        "\n",
        "Also, API providers will often give you discounted rates for using batch API calls since they are easier for the API provider to respond to.\n",
        "\n",
        "IEX Cloud limits their batch API calls to 100 tickers per request. Still, this reduces the number of API calls we'll make in this section from 500 to 5 - huge improvement! In this section, we'll split our list of stocks into groups of 100 and then make a batch API call for each group."
      ]
    },
    {
      "cell_type": "code",
      "metadata": {
        "id": "l93FG0IXODNa"
      },
      "source": [
        "# Function sourced from \n",
        "# https://stackoverflow.com/questions/312443/how-do-you-split-a-list-into-evenly-sized-chunks\n",
        "def chunks(lst, n):\n",
        "    \"\"\"Yield successive n-sized chunks from lst.\"\"\"\n",
        "    for i in range(0, len(lst), n):\n",
        "        yield lst[i:i + n]"
      ],
      "execution_count": null,
      "outputs": []
    },
    {
      "cell_type": "code",
      "metadata": {
        "id": "sfY2ryuEODNa"
      },
      "source": [
        "symbol_groups = list(chunks(stocks['Ticker'], 100))\n",
        "symbol_strings = []\n",
        "for i in range(0, len(symbol_groups)):\n",
        "    symbol_strings.append(','.join(symbol_groups[i]))\n",
        "#     print(symbol_strings[i])\n",
        "\n",
        "final_dataframe = pd.DataFrame(columns = my_columns)\n",
        "\n",
        "for symbol_string in symbol_strings:\n",
        "#     print(symbol_strings)\n",
        "    batch_api_call_url = f'https://sandbox.iexapis.com/stable/stock/market/batch/?types=quote&symbols={symbol_string}&token={IEX_CLOUD_API_TOKEN}'\n",
        "    data = requests.get(batch_api_call_url).json()\n",
        "    for symbol in symbol_string.split(','):\n",
        "        final_dataframe = final_dataframe.append(\n",
        "                                        pd.Series([symbol, \n",
        "                                                   data[symbol]['quote']['latestPrice'], \n",
        "                                                   data[symbol]['quote']['marketCap'], \n",
        "                                                   'N/A'], \n",
        "                                                  index = my_columns), \n",
        "                                        ignore_index = True)\n",
        "        \n",
        "    \n",
        "final_dataframe"
      ],
      "execution_count": null,
      "outputs": []
    },
    {
      "cell_type": "markdown",
      "metadata": {
        "id": "si44dT2gODNb"
      },
      "source": [
        "## Calculating the Number of Shares to Buy\n",
        "\n",
        "As you can see in the DataFrame above, we stil haven't calculated the number of shares of each stock to buy.\n",
        "\n",
        "We'll do that next."
      ]
    },
    {
      "cell_type": "code",
      "metadata": {
        "id": "JizryOQLODNb"
      },
      "source": [
        "portfolio_size = input(\"Enter the value of your portfolio:\")\n",
        "\n",
        "try:\n",
        "    val = float(portfolio_size)\n",
        "except ValueError:\n",
        "    print(\"That's not a number! \\n Try again:\")\n",
        "    portfolio_size = input(\"Enter the value of your portfolio:\")"
      ],
      "execution_count": null,
      "outputs": []
    },
    {
      "cell_type": "code",
      "metadata": {
        "id": "YLaRDOJJODNb"
      },
      "source": [
        "position_size = float(portfolio_size) / len(final_dataframe.index)\n",
        "for i in range(0, len(final_dataframe['Ticker'])-1):\n",
        "    final_dataframe.loc[i, 'Number Of Shares to Buy'] = math.floor(position_size / final_dataframe['Price'][i])\n",
        "final_dataframe"
      ],
      "execution_count": null,
      "outputs": []
    },
    {
      "cell_type": "markdown",
      "metadata": {
        "id": "sw59aaMjODNb"
      },
      "source": [
        "## Formatting Our Excel Output\n",
        "\n",
        "We will be using the XlsxWriter library for Python to create nicely-formatted Excel files.\n",
        "\n",
        "XlsxWriter is an excellent package and offers tons of customization. However, the tradeoff for this is that the library can seem very complicated to new users. Accordingly, this section will be fairly long because I want to do a good job of explaining how XlsxWriter works.\n",
        "\n",
        "### Initializing our XlsxWriter Object"
      ]
    },
    {
      "cell_type": "code",
      "metadata": {
        "id": "TF-_-XHnODNb"
      },
      "source": [
        "writer = pd.ExcelWriter('recommended_trades.xlsx', engine='xlsxwriter')\n",
        "final_dataframe.to_excel(writer, sheet_name='Recommended Trades', index = False)"
      ],
      "execution_count": null,
      "outputs": []
    },
    {
      "cell_type": "markdown",
      "metadata": {
        "id": "inRGcMm6ODNb"
      },
      "source": [
        "### Creating the Formats We'll Need For Our `.xlsx` File\n",
        "\n",
        "Formats include colors, fonts, and also symbols like `%` and `$`. We'll need four main formats for our Excel document:\n",
        "* String format for tickers\n",
        "* \\\\$XX.XX format for stock prices\n",
        "* \\\\$XX,XXX format for market capitalization\n",
        "* Integer format for the number of shares to purchase"
      ]
    },
    {
      "cell_type": "code",
      "metadata": {
        "id": "BphQOxdLODNc"
      },
      "source": [
        "background_color = '#0a0a23'\n",
        "font_color = '#ffffff'\n",
        "\n",
        "string_format = writer.book.add_format(\n",
        "        {\n",
        "            'font_color': font_color,\n",
        "            'bg_color': background_color,\n",
        "            'border': 1\n",
        "        }\n",
        "    )\n",
        "\n",
        "dollar_format = writer.book.add_format(\n",
        "        {\n",
        "            'num_format':'$0.00',\n",
        "            'font_color': font_color,\n",
        "            'bg_color': background_color,\n",
        "            'border': 1\n",
        "        }\n",
        "    )\n",
        "\n",
        "integer_format = writer.book.add_format(\n",
        "        {\n",
        "            'num_format':'0',\n",
        "            'font_color': font_color,\n",
        "            'bg_color': background_color,\n",
        "            'border': 1\n",
        "        }\n",
        "    )"
      ],
      "execution_count": null,
      "outputs": []
    },
    {
      "cell_type": "markdown",
      "metadata": {
        "id": "ACDd0tCKODNc"
      },
      "source": [
        "### Applying the Formats to the Columns of Our `.xlsx` File\n",
        "\n",
        "We can use the `set_column` method applied to the `writer.sheets['Recommended Trades']` object to apply formats to specific columns of our spreadsheets.\n",
        "\n",
        "Here's an example:\n",
        "\n",
        "```python\n",
        "writer.sheets['Recommended Trades'].set_column('B:B', #This tells the method to apply the format to column B\n",
        "                     18, #This tells the method to apply a column width of 18 pixels\n",
        "                     string_format #This applies the format 'string_format' to the column\n",
        "                    )\n",
        "```"
      ]
    },
    {
      "cell_type": "code",
      "metadata": {
        "id": "VUOtffcbODNc"
      },
      "source": [
        "# writer.sheets['Recommended Trades'].write('A1', 'Ticker', string_format)\n",
        "# writer.sheets['Recommended Trades'].write('B1', 'Price', string_format)\n",
        "# writer.sheets['Recommended Trades'].write('C1', 'Market Capitalization', string_format)\n",
        "# writer.sheets['Recommended Trades'].write('D1', 'Number Of Shares to Buy', string_format)\n",
        "# writer.sheets['Recommended Trades'].set_column('A:A', 20, string_format)\n",
        "# writer.sheets['Recommended Trades'].set_column('B:B', 20, dollar_format)\n",
        "# writer.sheets['Recommended Trades'].set_column('C:C', 20, dollar_format)\n",
        "# writer.sheets['Recommended Trades'].set_column('D:D', 20, integer_format)\n"
      ],
      "execution_count": null,
      "outputs": []
    },
    {
      "cell_type": "markdown",
      "metadata": {
        "id": "s9v4eLn8ODNc"
      },
      "source": [
        "This code works, but it violates the software principle of \"Don't Repeat Yourself\". \n",
        "\n",
        "Let's simplify this by putting it in 2 loops:"
      ]
    },
    {
      "cell_type": "code",
      "metadata": {
        "id": "_t6ER6goODNc"
      },
      "source": [
        "column_formats = { \n",
        "                    'A': ['Ticker', string_format],\n",
        "                    'B': ['Price', dollar_format],\n",
        "                    'C': ['Market Capitalization', dollar_format],\n",
        "                    'D': ['Number of Shares to Buy', integer_format]\n",
        "                    }\n",
        "\n",
        "for column in column_formats.keys():\n",
        "    writer.sheets['Recommended Trades'].set_column(f'{column}:{column}', 20, column_formats[column][1])\n",
        "    writer.sheets['Recommended Trades'].write(f'{column}1', column_formats[column][0], string_format)"
      ],
      "execution_count": null,
      "outputs": []
    },
    {
      "cell_type": "markdown",
      "metadata": {
        "id": "vkTDEFvEODNd"
      },
      "source": [
        "## Saving Our Excel Output\n",
        "\n",
        "Saving our Excel file is very easy:"
      ]
    },
    {
      "cell_type": "code",
      "metadata": {
        "id": "R52mbNTuODNd"
      },
      "source": [
        "writer.save()"
      ],
      "execution_count": null,
      "outputs": []
    }
  ]
}